{
  "nbformat": 4,
  "nbformat_minor": 0,
  "metadata": {
    "colab": {
      "provenance": []
    },
    "kernelspec": {
      "name": "python3",
      "display_name": "Python 3"
    },
    "language_info": {
      "name": "python"
    }
  },
  "cells": [
    {
      "cell_type": "code",
      "execution_count": null,
      "metadata": {
        "id": "hkESEBy91vmS"
      },
      "outputs": [],
      "source": [
        "import pandas as pd\n",
        "import matplotlib.pyplot as plt\n",
        "%matplotlib inline\n",
        "import seaborn as sns\n"
      ]
    },
    {
      "cell_type": "markdown",
      "source": [
        "# **Part 2: Driver Signups Analysis**"
      ],
      "metadata": {
        "id": "_RdijfNsuiUY"
      }
    },
    {
      "cell_type": "code",
      "source": [
        "path=\"/content/drive/MyDrive/1108 Uber Case/UT - R&MP_Deepdive_Dataset (b) Part 2.xlsx\"\n",
        "data=pd.read_excel(path)\n",
        "data_head = data.head(10)\n",
        "print(data_head)\n",
        "print(data.columns)"
      ],
      "metadata": {
        "colab": {
          "base_uri": "https://localhost:8080/"
        },
        "id": "ziZnLpjd1woo",
        "outputId": "c7798a57-9cc1-4dca-d0a7-4a2aecee173b"
      },
      "execution_count": null,
      "outputs": [
        {
          "output_type": "stream",
          "name": "stdout",
          "text": [
            "   id city_name    signup_os signup_channel signup day signup_date   bgc_date  \\\n",
            "0   1    Strark      ios web           Paid   Saturday  2016-01-02        NaT   \n",
            "1   2    Strark      windows           Paid   Thursday  2016-01-21        NaT   \n",
            "2   3   Wrouver      windows        Organic     Monday  2016-01-11 2016-01-11   \n",
            "3   4    Berton  android web       Referral     Friday  2016-01-29 2016-02-03   \n",
            "4   5    Strark  android web       Referral     Sunday  2016-01-10 2016-01-25   \n",
            "5   6    Strark  android web       Referral     Monday  2016-01-18 2016-01-18   \n",
            "6   7    Strark      ios web           Paid   Thursday  2016-01-14 2016-01-16   \n",
            "7   8    Strark      ios web       Referral    Tuesday  2016-01-26 2016-02-05   \n",
            "8   9    Strark          NaN       Referral    Tuesday  2016-01-05        NaT   \n",
            "9  10    Berton      ios web           Paid     Monday  2016-01-25        NaT   \n",
            "\n",
            "  vehicle_added_date vehicle_make vehicle_model  vehicle_year  \\\n",
            "0                NaT          NaN           NaN           NaN   \n",
            "1                NaT          NaN           NaN           NaN   \n",
            "2                NaT          NaN           NaN           NaN   \n",
            "3         2016-02-03       Toyota       Corolla        2016.0   \n",
            "4         2016-01-26      Hyundai        Sonata        2016.0   \n",
            "5         2016-01-22     Cadillac           DTS        2006.0   \n",
            "6         2016-01-21       Toyota       Prius V        2014.0   \n",
            "7                NaT          NaN           NaN           NaN   \n",
            "8                NaT          NaN           NaN           NaN   \n",
            "9                NaT          NaN           NaN           NaN   \n",
            "\n",
            "  first_completed_date  \n",
            "0                  NaT  \n",
            "1                  NaT  \n",
            "2                  NaT  \n",
            "3           2016-02-03  \n",
            "4                  NaT  \n",
            "5                  NaT  \n",
            "6           2016-01-23  \n",
            "7                  NaT  \n",
            "8                  NaT  \n",
            "9                  NaT  \n",
            "Index(['id', 'city_name', 'signup_os', 'signup_channel', 'signup day',\n",
            "       'signup_date', 'bgc_date', 'vehicle_added_date', 'vehicle_make',\n",
            "       'vehicle_model', 'vehicle_year', 'first_completed_date'],\n",
            "      dtype='object')\n"
          ]
        }
      ]
    },
    {
      "cell_type": "markdown",
      "source": [
        "**Perform any cleaning, exploratory analysis, and/or visualisations to use the provided data for this analysis (a few sentences / plots describing your approach will suffice). **\n",
        "\n",
        "To cleanse the date, I took the following steps:\n",
        "1) Converted the columns to datetime\n",
        "2) Filled missing values to unknown or 0 so it can be consistent\n",
        "3) Added a function to track drivers who has taken a first trip\n",
        "4) Removed any null data in id and signup_date"
      ],
      "metadata": {
        "id": "hTZmW1m-ui2Q"
      }
    },
    {
      "cell_type": "code",
      "source": [
        "# Key columns = id, signup_date\n",
        "\n",
        "#Converting columns to datetime\n",
        "date_columns = ['signup_date', 'bgc_date', 'vehicle_added_date', 'first_completed_date']\n",
        "for col in date_columns:\n",
        "    data[col] = pd.to_datetime(data[col], errors='coerce')\n",
        "\n",
        "#Fill missing values to unknown or 0\n",
        "data['signup_os'] = data['signup_os'].fillna('Unknown')\n",
        "data['vehicle_make'] = data['vehicle_make'].fillna('Unknown')\n",
        "data['vehicle_model'] = data['vehicle_model'].fillna('Unknown')\n",
        "data['vehicle_year'] = data['vehicle_year'].fillna(0)\n",
        "\n",
        "#Flag for Drivers Who Took First Trip\n",
        "data['has_first_trip'] = data['first_completed_date'].notna().astype(int)\n",
        "\n",
        "# Cleansing key columns with NaN\n",
        "data_cleaned = data.dropna(subset=['id', 'signup_date'])\n",
        "\n",
        "#print(data_cleaned.info())\n",
        "#print(data_cleaned.head())"
      ],
      "metadata": {
        "collapsed": true,
        "id": "4AdwLkWZup-B"
      },
      "execution_count": null,
      "outputs": []
    },
    {
      "cell_type": "markdown",
      "source": [
        "**What fraction of the driver signups took a first trip?**"
      ],
      "metadata": {
        "id": "lXo-HDKP40yt"
      }
    },
    {
      "cell_type": "code",
      "source": [
        "##Calculate total signups\n",
        "total_signups = data_cleaned['id'].nunique()\n",
        "\n",
        "##Calculate drivers who took a first trip\n",
        "drivers_first_trip = data_cleaned['has_first_trip'].sum()\n",
        "\n",
        "##Fraction of driver signups that took a first trip\n",
        "fraction_first_trip = drivers_first_trip / total_signups\n",
        "#print(f\"Fraction of driver signups that took a first trip: {fraction_first_trip:.2f}\")\n",
        "fraction_first_trip\n",
        "\n",
        "# Data for the pie chart\n",
        "fractions = [data_cleaned['has_first_trip'].sum(), data_cleaned['id'].nunique() - data_cleaned['has_first_trip'].sum()]\n",
        "labels = ['Took First Trip', 'Did Not Take First Trip']\n",
        "\n",
        "colors = ['#A8E6A1', '#D3D3D3']\n",
        "\n",
        "# Plotting the pie chart with lighter colors\n",
        "plt.figure(figsize=(6, 6))\n",
        "plt.pie(fractions, labels=labels, autopct='%1.1f%%', startangle=140, colors=colors)\n",
        "plt.title('Fraction of Driver Signups that Took a First Trip')\n",
        "plt.show()"
      ],
      "metadata": {
        "colab": {
          "base_uri": "https://localhost:8080/",
          "height": 521
        },
        "id": "ls-d9Hyn1k5s",
        "outputId": "816bdd86-0a18-4e88-8344-698495480b3d"
      },
      "execution_count": null,
      "outputs": [
        {
          "output_type": "display_data",
          "data": {
            "text/plain": [
              "<Figure size 600x600 with 1 Axes>"
            ],
            "image/png": "[encoded data removed]"
          },
          "metadata": {}
        }
      ]
    },
    {
      "cell_type": "markdown",
      "source": [
        "Give a summary of the data:\n",
        "*   How many drivers took their first trip?\n",
        "*   Breakdown of channels\n",
        "*   Typical time to background check and to first trip"
      ],
      "metadata": {
        "id": "Cgle-h0_8tbF"
      }
    },
    {
      "cell_type": "code",
      "source": [
        "# How many drivers took their first trip?\n",
        "drivers_first_trip = data_cleaned['has_first_trip'].sum()\n",
        "print(\"Drivers that took their first trip:\", drivers_first_trip,\"\\n\")\n",
        "\n",
        "# Breakdown of channels\n",
        "channel_breakdown = data_cleaned.groupby('signup_channel').agg(\n",
        "    Total_Signups=('id', 'count'),\n",
        "    First_Trip_Count=('has_first_trip', 'sum')\n",
        ").reset_index()\n",
        "channel_breakdown.columns = ['Signup Channel', 'Total Signups', 'First Trip Count']\n",
        "print(channel_breakdown,\"\\n\")\n",
        "\n",
        "# Colours\n",
        "primary_color = '#A8E6A1'\n",
        "secondary_color = '#D3D3D3'\n",
        "\n",
        "# Chart 1: Bar Chart - Total Signups and First Trips by Signup Channel\n",
        "plt.figure(figsize=(10, 6))\n",
        "sns.barplot(data=channel_breakdown, x='Signup Channel', y='Total Signups', color=primary_color, label='Total Signups')\n",
        "sns.barplot(data=channel_breakdown, x='Signup Channel', y='First Trip Count', color=secondary_color, label='First Trip Count')\n",
        "plt.title(\"Total Signups and First Trips by Signup Channel\")\n",
        "plt.xlabel(\"Signup Channel\")\n",
        "plt.ylabel(\"Number of Drivers\")\n",
        "plt.legend()\n",
        "plt.show()\n",
        "\n",
        "# Calculate durations in days\n",
        "data_cleaned['bgc_duration'] = (data_cleaned['bgc_date'] - data_cleaned['signup_date']).dt.days\n",
        "data_cleaned['first_trip_duration'] = (data_cleaned['first_completed_date'] - data_cleaned['signup_date']).dt.days\n",
        "\n",
        "# Drop NaNs to calculate the average duration accurately\n",
        "bgc_duration_mean = data_cleaned['bgc_duration'].dropna().mean().round(1)\n",
        "first_trip_duration_mean = data_cleaned['first_trip_duration'].dropna().mean().round(1)\n",
        "\n",
        "print(\"Average time from sign up to to background check:\", bgc_duration_mean,\"days\")\n",
        "print(\"Average time from sign up to first trip:\", first_trip_duration_mean,\"days\")\n",
        "\n",
        "# Chart 2: Horizontal Bar Chart - Average Duration from Signup\n",
        "durations = {\n",
        "    'Signup to Background Check': bgc_duration_mean,\n",
        "    'Signup to First Trip': first_trip_duration_mean\n",
        "}\n",
        "\n",
        "plt.figure(figsize=(8, 4))\n",
        "plt.barh(list(durations.keys()), list(durations.values()), color=primary_color)\n",
        "plt.title(\"Average Duration from Signup\")\n",
        "plt.xlabel(\"Average Duration (Days)\")\n",
        "plt.show()\n",
        "\n"
      ],
      "metadata": {
        "colab": {
          "base_uri": "https://localhost:8080/",
          "height": 1000
        },
        "id": "MgGkaVWw9Bjo",
        "outputId": "aa9b652f-d49f-4667-d78b-aede951c4b1f"
      },
      "execution_count": null,
      "outputs": [
        {
          "output_type": "stream",
          "name": "stdout",
          "text": [
            "Drivers that took their first trip: 6137 \n",
            "\n",
            "  Signup Channel  Total Signups  First Trip Count\n",
            "0        Organic          13427              1210\n",
            "1           Paid          23938              1482\n",
            "2       Referral          17316              3445 \n",
            "\n"
          ]
        },
        {
          "output_type": "display_data",
          "data": {
            "text/plain": [
              "<Figure size 1000x600 with 1 Axes>"
            ],
            "image/png": "[encoded data removed]"
          },
          "metadata": {}
        },
        {
          "output_type": "stream",
          "name": "stdout",
          "text": [
            "Average time from sign up to to background check: 10.0 days\n",
            "Average time from sign up to first trip: 12.0 days\n"
          ]
        },
        {
          "output_type": "display_data",
          "data": {
            "text/plain": [
              "<Figure size 800x400 with 1 Axes>"
            ],
            "image/png": "[encoded data removed]"
          },
          "metadata": {}
        }
      ]
    },
    {
      "cell_type": "markdown",
      "source": [
        "**Which signup channel is most effective? Why do you think this is? Is there something we could do to increase driver first trips?**\n",
        "\n",
        "To identify which signup channel is the most effective, we will look at the conversion rates of each channel."
      ],
      "metadata": {
        "id": "UG30MRTs8tV2"
      }
    },
    {
      "cell_type": "code",
      "source": [
        "# Calculate total signups and first trip counts by channel\n",
        "channel_breakdown = data_cleaned.groupby('signup_channel').agg(\n",
        "    Total_Signups=('id', 'count'),\n",
        "    First_Trip_Count=('has_first_trip', 'sum')\n",
        ").reset_index()\n",
        "\n",
        "# Calculate the conversion rate and format as percentage\n",
        "channel_breakdown['Conversion_Rate'] = ((channel_breakdown['First_Trip_Count'] / channel_breakdown['Total_Signups']) * 100).round(2).astype(str) + '%'\n",
        "\n",
        "# Display the breakdown with conversion rate as a percentage\n",
        "print(\"Signup Channel Effectiveness:\\n\")\n",
        "print(channel_breakdown)\n",
        "\n",
        "# Colours\n",
        "primary_color = '#A8E6A1'  # Light green\n",
        "\n",
        "# Plotting the conversion rates by signup channel\n",
        "plt.figure(figsize=(10, 6))\n",
        "sns.barplot(data=channel_breakdown, x='signup_channel', y='First_Trip_Count', color=primary_color)\n",
        "\n",
        "# Adding conversion rate labels to each bar\n",
        "for index, row in channel_breakdown.iterrows():\n",
        "    plt.text(index, row.First_Trip_Count, row.Conversion_Rate, ha='center', va='bottom', fontsize=10)\n",
        "\n",
        "plt.title(\"Conversion Rates by Signup Channel\")\n",
        "plt.xlabel(\"Signup Channel\")\n",
        "plt.ylabel(\"Conversion Rate (%)\")\n",
        "plt.show()"
      ],
      "metadata": {
        "colab": {
          "base_uri": "https://localhost:8080/",
          "height": 668
        },
        "id": "oFdeX_j7DDE4",
        "outputId": "a746f17f-92a7-44b5-e79a-94b7a5a4ebfd"
      },
      "execution_count": null,
      "outputs": [
        {
          "output_type": "stream",
          "name": "stdout",
          "text": [
            "Signup Channel Effectiveness:\n",
            "\n",
            "  signup_channel  Total_Signups  First_Trip_Count Conversion_Rate\n",
            "0        Organic          13427              1210           9.01%\n",
            "1           Paid          23938              1482           6.19%\n",
            "2       Referral          17316              3445          19.89%\n"
          ]
        },
        {
          "output_type": "display_data",
          "data": {
            "text/plain": [
              "<Figure size 1000x600 with 1 Axes>"
            ],
            "image/png": "[encoded data removed]"
          },
          "metadata": {}
        }
      ]
    },
    {
      "cell_type": "markdown",
      "source": [
        ":We see that the most effective signup channel based on conversion rate (signup to completed first trip) is **Referral** at **19.89%**.\n",
        "\n",
        "Referral can be most effective because:\n",
        "\n",
        "*   Builds on existing trust from friends\n",
        "*   May include a mutual incentive program, motivating both new and existing drivers.\n",
        "\n",
        "\n",
        "To increase drivers first trips, we can review it in two perspectives:\n",
        "\n",
        "\n",
        "*   **Driver's perspective** - Streamline the signup-to-first-trip journey to reduce friction, such as simplifying onboarding and adding FAQs or walkthroughs.\n",
        "*   **Business's perspective** - Implement post-signup incentives, especially for drivers in Organic and Paid channels, to encourage completing the first trip.\n",
        "\n",
        "\n",
        "\n"
      ],
      "metadata": {
        "id": "WwFOIRCnDpK5"
      }
    },
    {
      "cell_type": "markdown",
      "source": [
        "**Are there any other factors that appear to affect the likelihood that a driver takes their first\n",
        "trip? If there are factors, can you give an explanation/hypothesis as to why this factor is\n",
        "correlated? Could we leverage any of these insights to increase driver first trips?**"
      ],
      "metadata": {
        "id": "njVWS3w2DpJB"
      }
    },
    {
      "cell_type": "markdown",
      "source": [
        "Other factors that may appear to affect the likelihood that a driver takes on their first trip could be:  \n",
        "\n",
        "1.   Signup Timing\n",
        "2.   Background Check Completion Duration\n",
        "3.   Vehicles (Availability / Type)\n",
        "4.   Signup Platform (OS)"
      ],
      "metadata": {
        "id": "0hsaqg2SGTqi"
      }
    },
    {
      "cell_type": "markdown",
      "source": [
        "**Signup Timing**\n",
        "\n",
        "**Hypothesis:** Drivers who sign up on weekends may have more flexibility and motivation to complete their first trip after signup.\n"
      ],
      "metadata": {
        "id": "HDBjbb6dHCGN"
      }
    },
    {
      "cell_type": "code",
      "source": [
        "# Categorize day of the week into 'Weekday' and 'Weekend'\n",
        "data_cleaned['day_category'] = data_cleaned['signup day'].apply(\n",
        "    lambda x: 'Weekend' if x in ['Saturday', 'Sunday'] else 'Weekday'\n",
        ")\n",
        "\n",
        "# Calculate conversion rate by day category (Weekday vs. Weekend)\n",
        "day_category_conversion = data_cleaned.groupby('day_category').agg(\n",
        "    Total_Signups=('id', 'count'),\n",
        "    First_Trip_Count=('has_first_trip', 'sum')\n",
        ")\n",
        "day_category_conversion['Conversion_Rate'] = (day_category_conversion['First_Trip_Count'] / day_category_conversion['Total_Signups']) * 100\n",
        "day_category_conversion['Conversion_Rate'] = day_category_conversion['Conversion_Rate'].round(2)\n",
        "\n",
        "# Display results\n",
        "print(\"Conversion Rate by Day Category (Weekday vs. Weekend):\\n\")\n",
        "print(day_category_conversion)\n",
        "\n"
      ],
      "metadata": {
        "colab": {
          "base_uri": "https://localhost:8080/"
        },
        "id": "ZHE85t5MHBbW",
        "outputId": "7db03226-7003-4426-bbff-da76ac9d3bd3"
      },
      "execution_count": null,
      "outputs": [
        {
          "output_type": "stream",
          "name": "stdout",
          "text": [
            "Conversion Rate by Day Category (Weekday vs. Weekend):\n",
            "\n",
            "              Total_Signups  First_Trip_Count  Conversion_Rate\n",
            "day_category                                                  \n",
            "Weekday               40264              4724            11.73\n",
            "Weekend               14417              1413             9.80\n"
          ]
        }
      ]
    },
    {
      "cell_type": "markdown",
      "source": [
        "**Result:** Drivers who signup during weekday showed higher conversion rates by **1.93%**.\n",
        "\n",
        "**Next Steps:** We can further identify when during the weekday is driving the higher conversion rates (peak vs non-peak hours). Once identified, we can do targeted marketing to drive lower conversion times including weekend."
      ],
      "metadata": {
        "id": "mzFw0qgcLEqX"
      }
    },
    {
      "cell_type": "markdown",
      "source": [
        "**Background Check Completion Duration**\n",
        "\n",
        "**Hypothesis:** Drivers with shorter times between signup and background check completion may be more engaged and motivated and not drop-off."
      ],
      "metadata": {
        "id": "MNg-TGJfLp7v"
      }
    },
    {
      "cell_type": "code",
      "source": [
        "# Calculate the time difference between signup and background check (in days)\n",
        "data_cleaned['bgc_duration'] = (data_cleaned['bgc_date'] - data_cleaned['signup_date']).dt.days\n",
        "\n",
        "# Bucket drivers based on bgc_duration 0-2 days, 3-7 days, and 8+ days buckets\n",
        "def categorize_bgc_duration(days):\n",
        "    if days <= 2:\n",
        "        return '0-2 days'\n",
        "    elif days <= 7:\n",
        "        return '3-7 days'\n",
        "    else:\n",
        "        return '8+ days'\n",
        "\n",
        "data_cleaned['bgc_duration_bucket'] = data_cleaned['bgc_duration'].apply(categorize_bgc_duration)\n",
        "\n",
        "# Calculate conversion rates by bgc_duration_bucket\n",
        "bgc_conversion = data_cleaned.groupby('bgc_duration_bucket').agg(\n",
        "    Total_Signups=('id', 'count'),\n",
        "    First_Trip_Count=('has_first_trip', 'sum')\n",
        ")\n",
        "bgc_conversion['Conversion_Rate'] = (bgc_conversion['First_Trip_Count'] / bgc_conversion['Total_Signups']) * 100\n",
        "bgc_conversion['Conversion_Rate'] = bgc_conversion['Conversion_Rate'].round(2)\n",
        "\n",
        "# Display the result\n",
        "print(\"Conversion Rate by Background Check Duration Bucket:\\n\")\n",
        "print(bgc_conversion)\n"
      ],
      "metadata": {
        "colab": {
          "base_uri": "https://localhost:8080/"
        },
        "id": "BLGdRrQeMfs4",
        "outputId": "4884c8db-057e-4e77-a15a-4748bbd78f05"
      },
      "execution_count": null,
      "outputs": [
        {
          "output_type": "stream",
          "name": "stdout",
          "text": [
            "Conversion Rate by Background Check Duration Bucket:\n",
            "\n",
            "                     Total_Signups  First_Trip_Count  Conversion_Rate\n",
            "bgc_duration_bucket                                                  \n",
            "0-2 days                      9910              3647            36.80\n",
            "3-7 days                      7867              1658            21.08\n",
            "8+ days                      36904               832             2.25\n"
          ]
        }
      ]
    },
    {
      "cell_type": "markdown",
      "source": [
        "**Result:** Drivers who complete the background check within 0-2 days have a significantly higher conversion rate (**36.80%**) compared to 3-7 days (**21.08%**) and 8+ days (**2.25%**)\n",
        "\n",
        "**Next Steps:** We can further investigate what is the root cause of drivers having to wait 3-7 days and 8+ days to complete background checks, and how we can streamline the process to reduce waiting time."
      ],
      "metadata": {
        "id": "dU3AQJpiMt6v"
      }
    },
    {
      "cell_type": "markdown",
      "source": [
        "**Vehicles**\n",
        "\n",
        "**Vehicle Availability Hypothesis:** Drivers with available vehicle ready to use are more inclined to complete their first ride immediately.\n",
        "\n",
        "**Vehicle Type Hypothesis:** Certain vehicle type owners are more motivated to drive Uber."
      ],
      "metadata": {
        "id": "PU4094_ANXeo"
      }
    },
    {
      "cell_type": "code",
      "source": [
        "# Create a flag for whether a vehicle was ready to use at signup\n",
        "data_cleaned['vehicle_ready'] = data_cleaned['vehicle_added_date'].notna().astype(int)\n",
        "\n",
        "# Calculate first trip conversion rate based on vehicle availability\n",
        "vehicle_ready_conversion = data_cleaned.groupby('vehicle_ready').agg(\n",
        "    Total_Signups=('id', 'count'),\n",
        "    First_Trip_Count=('has_first_trip', 'sum')\n",
        ")\n",
        "vehicle_ready_conversion['Conversion_Rate'] = (vehicle_ready_conversion['First_Trip_Count'] / vehicle_ready_conversion['Total_Signups']) * 100\n",
        "vehicle_ready_conversion['Conversion_Rate'] = vehicle_ready_conversion['Conversion_Rate'].round(2)\n",
        "\n",
        "vehicle_ready_conversion.index = vehicle_ready_conversion.index.map({1: 'Vehicle Ready', 0: 'Vehicle Not Ready'})\n",
        "\n",
        "print(\"Conversion Rate Based on Vehicle Readiness:\\n\")\n",
        "print(vehicle_ready_conversion)"
      ],
      "metadata": {
        "colab": {
          "base_uri": "https://localhost:8080/"
        },
        "id": "tlk8W1iBPQSo",
        "outputId": "120456dc-b195-47b2-c605-c7a025caa9ea"
      },
      "execution_count": null,
      "outputs": [
        {
          "output_type": "stream",
          "name": "stdout",
          "text": [
            "Conversion Rate Based on Vehicle Readiness:\n",
            "\n",
            "                   Total_Signups  First_Trip_Count  Conversion_Rate\n",
            "vehicle_ready                                                      \n",
            "Vehicle Not Ready          41547               265             0.64\n",
            "Vehicle Ready              13134              5872            44.71\n"
          ]
        }
      ]
    },
    {
      "cell_type": "code",
      "source": [
        "# Filter out rows where vehicle_make or vehicle_model is \"Unknown\"\n",
        "filtered_data = data_cleaned[\n",
        "    (data_cleaned['vehicle_make'] != 'Unknown') &\n",
        "    (data_cleaned['vehicle_model'] != 'Unknown')\n",
        "].copy()\n",
        "\n",
        "# Ensure 'vehicle_make' and 'vehicle_model' are of string type\n",
        "filtered_data['vehicle_make'] = filtered_data['vehicle_make'].astype(str)\n",
        "filtered_data['vehicle_model'] = filtered_data['vehicle_model'].astype(str)\n",
        "\n",
        "# Calculate total signups, first trip counts, and conversion rate by vehicle make and model\n",
        "vehicle_attribute_counts = filtered_data.groupby(['vehicle_make', 'vehicle_model'])['has_first_trip'].agg(\n",
        "    Total_Signups='size',  # Simplified using 'size' for total count\n",
        "    First_Trip_Count='sum'\n",
        ").reset_index()\n",
        "\n",
        "# Calculate Conversion_Rate\n",
        "vehicle_attribute_counts['Conversion_Rate'] = (vehicle_attribute_counts['First_Trip_Count'] / vehicle_attribute_counts['Total_Signups'] * 100).round(2)\n",
        "\n",
        "# Display top 10 vehicle make/model combinations by First Trip Count\n",
        "print(\"\\nTop 10 Vehicle Make and Model Combinations by First Trip Count:\\n\")\n",
        "print(vehicle_attribute_counts.sort_values(by='First_Trip_Count', ascending=False).head(10))"
      ],
      "metadata": {
        "id": "5wIxwx83Rj7q",
        "colab": {
          "base_uri": "https://localhost:8080/"
        },
        "outputId": "20e337cc-dc04-4ef7-d8d2-4c69a493ce55"
      },
      "execution_count": null,
      "outputs": [
        {
          "output_type": "stream",
          "name": "stdout",
          "text": [
            "\n",
            "Top 10 Vehicle Make and Model Combinations by First Trip Count:\n",
            "\n",
            "    vehicle_make vehicle_model  Total_Signups  First_Trip_Count  \\\n",
            "143        Honda         Civic            689               329   \n",
            "327       Toyota         Camry            683               313   \n",
            "330       Toyota       Corolla            688               311   \n",
            "140        Honda        Accord            595               269   \n",
            "337       Toyota       Prius V            522               258   \n",
            "335       Toyota         Prius            369               208   \n",
            "270       Nissan        Altima            422               181   \n",
            "282       Nissan        Sentra            330               136   \n",
            "163      Hyundai        Sonata            259               114   \n",
            "157      Hyundai       Elantra            255               107   \n",
            "\n",
            "     Conversion_Rate  \n",
            "143            47.75  \n",
            "327            45.83  \n",
            "330            45.20  \n",
            "140            45.21  \n",
            "337            49.43  \n",
            "335            56.37  \n",
            "270            42.89  \n",
            "282            41.21  \n",
            "163            44.02  \n",
            "157            41.96  \n"
          ]
        }
      ]
    },
    {
      "cell_type": "markdown",
      "source": [
        "**Vehicle Availability**\n",
        "\n",
        "**Result:** Drivers who had a vehicle ready at time of signup showed a higher conversion rate (**44.71%**)\n",
        "\n",
        "**Next Steps:** We can further investigate why drivers are signing up without a vehicle ready, and if there are alternative solutions we can offer such as rental cars.\n",
        "\n",
        "**Vehicle Type**\n",
        "\n",
        "**Result:** Drivers who drive Toyota Prius, Prius V, and Honda Civic account for the highest conversion rate by total first trip completion.\n",
        "\n",
        "**Next Steps:** Investigate further the characteristics of these 3 driver segments to identify specific rationale to drive conversation rate further."
      ],
      "metadata": {
        "id": "y7T2zh_-RkUx"
      }
    },
    {
      "cell_type": "markdown",
      "source": [
        "**Signup Platform (OS)**\n",
        "\n",
        "**Hypothesis**: Drivers who use a certain OS have a better experience leading to more likely to sign up and complete their first ride."
      ],
      "metadata": {
        "id": "NITAzZ0HZRiN"
      }
    },
    {
      "cell_type": "code",
      "source": [
        "# Group by signup_os to calculate total signups and first trip counts\n",
        "os_conversion = data_cleaned.groupby('signup_os').agg(\n",
        "    Total_Signups=('id', 'count'),\n",
        "    First_Trip_Count=('has_first_trip', 'sum')\n",
        ").reset_index()\n",
        "\n",
        "# Calculate conversion rate for each OS\n",
        "os_conversion['Conversion_Rate'] = (os_conversion['First_Trip_Count'] / os_conversion['Total_Signups']) * 100\n",
        "os_conversion['Conversion_Rate'] = os_conversion['Conversion_Rate'].round(2)\n",
        "\n",
        "# Display the results sorted by Conversion Rate\n",
        "print(\"Conversion Rate by Signup OS:\\n\")\n",
        "print(os_conversion.sort_values(by='Conversion_Rate', ascending=False))\n"
      ],
      "metadata": {
        "id": "q19dENp-ZfDt",
        "colab": {
          "base_uri": "https://localhost:8080/"
        },
        "outputId": "3dcc9d11-43f3-4083-d2fd-38892b098ab6"
      },
      "execution_count": null,
      "outputs": [
        {
          "output_type": "stream",
          "name": "stdout",
          "text": [
            "Conversion Rate by Signup OS:\n",
            "\n",
            "     signup_os  Total_Signups  First_Trip_Count  Conversion_Rate\n",
            "3          mac           5824               948            16.28\n",
            "4        other           3648               498            13.65\n",
            "5      windows           6776               898            13.25\n",
            "2      ios web          16632              2191            13.17\n",
            "1  android web          14944              1454             9.73\n",
            "0      Unknown           6857               148             2.16\n"
          ]
        }
      ]
    },
    {
      "cell_type": "markdown",
      "source": [
        "**Result:** Drivers who use Mac **(16.28%)** or Other **(13.65%)** have higher conversion rates.\n",
        "\n",
        "**Next Steps:** Review what Other OS channel includes and investigate the android web onboarding process to see if further onboarding experience can be improved.\n"
      ],
      "metadata": {
        "id": "yoER2OcDZ1o9"
      }
    },
    {
      "cell_type": "markdown",
      "source": [
        "**What would you recommend the business do given what you have found above?**\n",
        "\n",
        "The main objective is to increase driver activation meaning the the primary metric being conversion rate and secondary metric being signup volumes. Based on the defined metrics and analysis above, I would prioritize the following 3 recommendations:\n",
        "\n",
        "\n",
        "\n",
        "1. **Reduce Background Check Time** - Shorten processing time to lower drop-offs and encourage first trips\n",
        "2. **Optimize Android Web Onboarding** - Improve onboarding experience to increase conversions\n",
        "3. **Expand Referral Programs** - Add incentives and onboarding support to increase signups and conversion rates\n"
      ],
      "metadata": {
        "id": "CxUPIhUSaC6l"
      }
    },
    {
      "cell_type": "markdown",
      "source": [
        "**Are there any issues with the dataset or assumptions you have made?**\n",
        "\n",
        "Key Issues and Assumptions:\n",
        "\n",
        "\n",
        "1.  Missing data (like driver details and signup_os)\n",
        "2.  More info on signup times and a longer dataset would improve analysis.\n",
        "3.   Conversion rate was the main metric since there was no data on driver frequency or retention over time."
      ],
      "metadata": {
        "id": "cwdwN9ejaMut"
      }
    }
  ]
}